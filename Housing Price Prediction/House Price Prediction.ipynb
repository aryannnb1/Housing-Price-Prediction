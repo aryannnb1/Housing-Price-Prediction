{
 "cells": [
  {
   "cell_type": "markdown",
   "id": "d80042fc",
   "metadata": {},
   "source": [
    "IMPORTING NECESSARY LIBRARIES."
   ]
  },
  {
   "cell_type": "code",
   "execution_count": 1,
   "id": "c8387235",
   "metadata": {},
   "outputs": [],
   "source": [
    "import numpy as np\n",
    "import pandas as pd\n",
    "import matplotlib.pyplot as plt\n",
    "import seaborn as sns\n",
    "import sklearn.datasets\n",
    "from sklearn.model_selection import train_test_split\n",
    "from xgboost import XGBRegressor\n",
    "from sklearn import metrics\n",
    "from scipy.stats import gaussian_kde\n",
    "import pickle"
   ]
  },
  {
   "cell_type": "markdown",
   "id": "20868772",
   "metadata": {},
   "source": [
    "READING CSV FILE. CONVERTING IT TO DATAFRAME AND PERFORMING EXPLORATORY ANALYSIS ON THE DATASET."
   ]
  },
  {
   "cell_type": "code",
   "execution_count": 2,
   "id": "dd54c214",
   "metadata": {},
   "outputs": [],
   "source": [
    "house_price_dataset = pd.read_csv('Mumbai House Prices.csv')"
   ]
  },
  {
   "cell_type": "code",
   "execution_count": 3,
   "id": "7f5f0823",
   "metadata": {},
   "outputs": [],
   "source": [
    "house_price_df = pd.DataFrame(house_price_dataset)"
   ]
  },
  {
   "cell_type": "code",
   "execution_count": 4,
   "id": "544af225",
   "metadata": {},
   "outputs": [
    {
     "data": {
      "text/plain": [
       "(76038, 9)"
      ]
     },
     "execution_count": 4,
     "metadata": {},
     "output_type": "execute_result"
    }
   ],
   "source": [
    "house_price_df.shape"
   ]
  },
  {
   "cell_type": "code",
   "execution_count": 5,
   "id": "dcd8ad0b",
   "metadata": {},
   "outputs": [
    {
     "data": {
      "text/html": [
       "<div>\n",
       "<style scoped>\n",
       "    .dataframe tbody tr th:only-of-type {\n",
       "        vertical-align: middle;\n",
       "    }\n",
       "\n",
       "    .dataframe tbody tr th {\n",
       "        vertical-align: top;\n",
       "    }\n",
       "\n",
       "    .dataframe thead th {\n",
       "        text-align: right;\n",
       "    }\n",
       "</style>\n",
       "<table border=\"1\" class=\"dataframe\">\n",
       "  <thead>\n",
       "    <tr style=\"text-align: right;\">\n",
       "      <th></th>\n",
       "      <th>bhk</th>\n",
       "      <th>type</th>\n",
       "      <th>locality</th>\n",
       "      <th>area</th>\n",
       "      <th>price</th>\n",
       "      <th>price_unit</th>\n",
       "      <th>region</th>\n",
       "      <th>status</th>\n",
       "      <th>age</th>\n",
       "    </tr>\n",
       "  </thead>\n",
       "  <tbody>\n",
       "    <tr>\n",
       "      <th>0</th>\n",
       "      <td>3</td>\n",
       "      <td>Apartment</td>\n",
       "      <td>Lak And Hanware The Residency Tower</td>\n",
       "      <td>685</td>\n",
       "      <td>2.50</td>\n",
       "      <td>Cr</td>\n",
       "      <td>Andheri West</td>\n",
       "      <td>Ready to move</td>\n",
       "      <td>New</td>\n",
       "    </tr>\n",
       "    <tr>\n",
       "      <th>1</th>\n",
       "      <td>2</td>\n",
       "      <td>Apartment</td>\n",
       "      <td>Radheya Sai Enclave Building No 2</td>\n",
       "      <td>640</td>\n",
       "      <td>52.51</td>\n",
       "      <td>L</td>\n",
       "      <td>Naigaon East</td>\n",
       "      <td>Under Construction</td>\n",
       "      <td>New</td>\n",
       "    </tr>\n",
       "    <tr>\n",
       "      <th>2</th>\n",
       "      <td>2</td>\n",
       "      <td>Apartment</td>\n",
       "      <td>Romell Serene</td>\n",
       "      <td>610</td>\n",
       "      <td>1.73</td>\n",
       "      <td>Cr</td>\n",
       "      <td>Borivali West</td>\n",
       "      <td>Under Construction</td>\n",
       "      <td>New</td>\n",
       "    </tr>\n",
       "    <tr>\n",
       "      <th>3</th>\n",
       "      <td>2</td>\n",
       "      <td>Apartment</td>\n",
       "      <td>Soundlines Codename Urban Rainforest</td>\n",
       "      <td>876</td>\n",
       "      <td>59.98</td>\n",
       "      <td>L</td>\n",
       "      <td>Panvel</td>\n",
       "      <td>Under Construction</td>\n",
       "      <td>New</td>\n",
       "    </tr>\n",
       "    <tr>\n",
       "      <th>4</th>\n",
       "      <td>2</td>\n",
       "      <td>Apartment</td>\n",
       "      <td>Origin Oriana</td>\n",
       "      <td>659</td>\n",
       "      <td>94.11</td>\n",
       "      <td>L</td>\n",
       "      <td>Mira Road East</td>\n",
       "      <td>Under Construction</td>\n",
       "      <td>New</td>\n",
       "    </tr>\n",
       "  </tbody>\n",
       "</table>\n",
       "</div>"
      ],
      "text/plain": [
       "   bhk       type                              locality  area  price  \\\n",
       "0    3  Apartment   Lak And Hanware The Residency Tower   685   2.50   \n",
       "1    2  Apartment     Radheya Sai Enclave Building No 2   640  52.51   \n",
       "2    2  Apartment                         Romell Serene   610   1.73   \n",
       "3    2  Apartment  Soundlines Codename Urban Rainforest   876  59.98   \n",
       "4    2  Apartment                         Origin Oriana   659  94.11   \n",
       "\n",
       "  price_unit          region              status  age  \n",
       "0         Cr    Andheri West       Ready to move  New  \n",
       "1          L    Naigaon East  Under Construction  New  \n",
       "2         Cr   Borivali West  Under Construction  New  \n",
       "3          L          Panvel  Under Construction  New  \n",
       "4          L  Mira Road East  Under Construction  New  "
      ]
     },
     "execution_count": 5,
     "metadata": {},
     "output_type": "execute_result"
    }
   ],
   "source": [
    "house_price_df.head()"
   ]
  },
  {
   "cell_type": "code",
   "execution_count": 6,
   "id": "bb20063b",
   "metadata": {},
   "outputs": [
    {
     "data": {
      "text/plain": [
       "bhk           0\n",
       "type          0\n",
       "locality      0\n",
       "area          0\n",
       "price         0\n",
       "price_unit    0\n",
       "region        0\n",
       "status        0\n",
       "age           0\n",
       "dtype: int64"
      ]
     },
     "execution_count": 6,
     "metadata": {},
     "output_type": "execute_result"
    }
   ],
   "source": [
    "house_price_df.isnull().sum()"
   ]
  },
  {
   "cell_type": "code",
   "execution_count": 7,
   "id": "a99c1553",
   "metadata": {},
   "outputs": [
    {
     "data": {
      "text/html": [
       "<div>\n",
       "<style scoped>\n",
       "    .dataframe tbody tr th:only-of-type {\n",
       "        vertical-align: middle;\n",
       "    }\n",
       "\n",
       "    .dataframe tbody tr th {\n",
       "        vertical-align: top;\n",
       "    }\n",
       "\n",
       "    .dataframe thead th {\n",
       "        text-align: right;\n",
       "    }\n",
       "</style>\n",
       "<table border=\"1\" class=\"dataframe\">\n",
       "  <thead>\n",
       "    <tr style=\"text-align: right;\">\n",
       "      <th></th>\n",
       "      <th>bhk</th>\n",
       "      <th>area</th>\n",
       "      <th>price</th>\n",
       "    </tr>\n",
       "  </thead>\n",
       "  <tbody>\n",
       "    <tr>\n",
       "      <th>count</th>\n",
       "      <td>76038.000000</td>\n",
       "      <td>76038.000000</td>\n",
       "      <td>76038.00000</td>\n",
       "    </tr>\n",
       "    <tr>\n",
       "      <th>mean</th>\n",
       "      <td>2.015111</td>\n",
       "      <td>1024.536850</td>\n",
       "      <td>29.38227</td>\n",
       "    </tr>\n",
       "    <tr>\n",
       "      <th>std</th>\n",
       "      <td>0.922754</td>\n",
       "      <td>670.276165</td>\n",
       "      <td>32.90345</td>\n",
       "    </tr>\n",
       "    <tr>\n",
       "      <th>min</th>\n",
       "      <td>1.000000</td>\n",
       "      <td>127.000000</td>\n",
       "      <td>1.00000</td>\n",
       "    </tr>\n",
       "    <tr>\n",
       "      <th>25%</th>\n",
       "      <td>1.000000</td>\n",
       "      <td>640.000000</td>\n",
       "      <td>1.75000</td>\n",
       "    </tr>\n",
       "    <tr>\n",
       "      <th>50%</th>\n",
       "      <td>2.000000</td>\n",
       "      <td>872.000000</td>\n",
       "      <td>5.50000</td>\n",
       "    </tr>\n",
       "    <tr>\n",
       "      <th>75%</th>\n",
       "      <td>3.000000</td>\n",
       "      <td>1179.000000</td>\n",
       "      <td>59.00000</td>\n",
       "    </tr>\n",
       "    <tr>\n",
       "      <th>max</th>\n",
       "      <td>10.000000</td>\n",
       "      <td>16000.000000</td>\n",
       "      <td>99.99000</td>\n",
       "    </tr>\n",
       "  </tbody>\n",
       "</table>\n",
       "</div>"
      ],
      "text/plain": [
       "                bhk          area        price\n",
       "count  76038.000000  76038.000000  76038.00000\n",
       "mean       2.015111   1024.536850     29.38227\n",
       "std        0.922754    670.276165     32.90345\n",
       "min        1.000000    127.000000      1.00000\n",
       "25%        1.000000    640.000000      1.75000\n",
       "50%        2.000000    872.000000      5.50000\n",
       "75%        3.000000   1179.000000     59.00000\n",
       "max       10.000000  16000.000000     99.99000"
      ]
     },
     "execution_count": 7,
     "metadata": {},
     "output_type": "execute_result"
    }
   ],
   "source": [
    "house_price_df.describe()"
   ]
  },
  {
   "cell_type": "markdown",
   "id": "461fc30c",
   "metadata": {},
   "source": [
    "CONVERTING CRORES TO LAKHS AND DROPPING THE price_unit COLUMN."
   ]
  },
  {
   "cell_type": "code",
   "execution_count": 8,
   "id": "10d09e03",
   "metadata": {},
   "outputs": [
    {
     "name": "stdout",
     "output_type": "stream",
     "text": [
      "   bhk       type                              locality  area          region  \\\n",
      "0    3  Apartment   Lak And Hanware The Residency Tower   685    Andheri West   \n",
      "1    2  Apartment     Radheya Sai Enclave Building No 2   640    Naigaon East   \n",
      "2    2  Apartment                         Romell Serene   610   Borivali West   \n",
      "3    2  Apartment  Soundlines Codename Urban Rainforest   876          Panvel   \n",
      "4    2  Apartment                         Origin Oriana   659  Mira Road East   \n",
      "\n",
      "               status  age   price  \n",
      "0       Ready to move  New  250.00  \n",
      "1  Under Construction  New   52.51  \n",
      "2  Under Construction  New  173.00  \n",
      "3  Under Construction  New   59.98  \n",
      "4  Under Construction  New   94.11  \n"
     ]
    }
   ],
   "source": [
    "house_price_df['price_in_Lakhs'] = house_price_df.apply(\n",
    "    lambda row: row['price'] * 100 if row['price_unit'] == 'Cr' else row['price'],\n",
    "    axis=1\n",
    ")\n",
    "\n",
    "house_price_df = house_price_df.drop(columns=['price', 'price_unit'])\n",
    "\n",
    "house_price_df = house_price_df.rename(columns={'price_in_Lakhs': 'price'})\n",
    "\n",
    "print(house_price_df.head())"
   ]
  },
  {
   "cell_type": "code",
   "execution_count": 9,
   "id": "c32cc2ee",
   "metadata": {},
   "outputs": [
    {
     "name": "stdout",
     "output_type": "stream",
     "text": [
      "Index(['bhk', 'type', 'locality', 'area', 'region', 'status', 'age', 'price'], dtype='object')\n"
     ]
    }
   ],
   "source": [
    "print(house_price_df.columns)"
   ]
  },
  {
   "cell_type": "markdown",
   "id": "d11253ab",
   "metadata": {},
   "source": [
    "DROPPING LOCALITY DUE TO HIGH CARDINALITY, AGE DUE TO REDUNDANCY AND STATUS DUE TO LIMITED CORRELATION WITH OTHER FEATURES."
   ]
  },
  {
   "cell_type": "code",
   "execution_count": 10,
   "id": "5bb698ca",
   "metadata": {},
   "outputs": [],
   "source": [
    "house_price_df = house_price_df.drop(columns=['age', 'locality', 'status'])"
   ]
  },
  {
   "cell_type": "code",
   "execution_count": 11,
   "id": "4afdb7e4",
   "metadata": {},
   "outputs": [],
   "source": [
    "house_price_df['price'] = np.log1p(house_price_df['price'])"
   ]
  },
  {
   "cell_type": "markdown",
   "id": "22c2dc1f",
   "metadata": {},
   "source": [
    "PLOTTING HISTOGRAM TO EXPLORE DISTRIBUTION OF PRICES."
   ]
  },
  {
   "cell_type": "code",
   "execution_count": 12,
   "id": "dae4e7b3",
   "metadata": {},
   "outputs": [
    {
     "data": {
      "image/png": "[encoded data removed]",
      "text/plain": [
       "<Figure size 640x480 with 1 Axes>"
      ]
     },
     "metadata": {},
     "output_type": "display_data"
    }
   ],
   "source": [
    "plt.hist(house_price_df['price'], bins=30, alpha=0.5, color='blue', edgecolor='black', density=True)\n",
    "\n",
    "kde = gaussian_kde(house_price_df['price'])\n",
    "x_vals = np.linspace(house_price_df['price'].min(), house_price_df['price'].max(), 100)\n",
    "plt.plot(x_vals, kde(x_vals), color='red')  # KDE curve\n",
    "\n",
    "plt.xlabel('Price (Lakhs)')\n",
    "plt.ylabel('Density')\n",
    "plt.title('Distribution of Price (Lakhs)')\n",
    "plt.show()"
   ]
  },
  {
   "cell_type": "markdown",
   "id": "8c935680",
   "metadata": {},
   "source": [
    "CREATING A NEW FEATURE, PRICE PER SQUARE FEET, WHICH IS USED FOR PROPERTY VALUATION IN PRACTICAL SETTINGS."
   ]
  },
  {
   "cell_type": "code",
   "execution_count": 13,
   "id": "de2cf8ba",
   "metadata": {},
   "outputs": [],
   "source": [
    "house_price_df['price per square feet'] = house_price_df['price']/house_price_df['area']"
   ]
  },
  {
   "cell_type": "code",
   "execution_count": 14,
   "id": "92ac25f9",
   "metadata": {},
   "outputs": [
    {
     "data": {
      "text/html": [
       "<div>\n",
       "<style scoped>\n",
       "    .dataframe tbody tr th:only-of-type {\n",
       "        vertical-align: middle;\n",
       "    }\n",
       "\n",
       "    .dataframe tbody tr th {\n",
       "        vertical-align: top;\n",
       "    }\n",
       "\n",
       "    .dataframe thead th {\n",
       "        text-align: right;\n",
       "    }\n",
       "</style>\n",
       "<table border=\"1\" class=\"dataframe\">\n",
       "  <thead>\n",
       "    <tr style=\"text-align: right;\">\n",
       "      <th></th>\n",
       "      <th>bhk</th>\n",
       "      <th>type</th>\n",
       "      <th>area</th>\n",
       "      <th>region</th>\n",
       "      <th>price</th>\n",
       "      <th>price per square feet</th>\n",
       "    </tr>\n",
       "  </thead>\n",
       "  <tbody>\n",
       "    <tr>\n",
       "      <th>0</th>\n",
       "      <td>3</td>\n",
       "      <td>Apartment</td>\n",
       "      <td>685</td>\n",
       "      <td>Andheri West</td>\n",
       "      <td>5.525453</td>\n",
       "      <td>0.008066</td>\n",
       "    </tr>\n",
       "    <tr>\n",
       "      <th>1</th>\n",
       "      <td>2</td>\n",
       "      <td>Apartment</td>\n",
       "      <td>640</td>\n",
       "      <td>Naigaon East</td>\n",
       "      <td>3.979869</td>\n",
       "      <td>0.006219</td>\n",
       "    </tr>\n",
       "    <tr>\n",
       "      <th>2</th>\n",
       "      <td>2</td>\n",
       "      <td>Apartment</td>\n",
       "      <td>610</td>\n",
       "      <td>Borivali West</td>\n",
       "      <td>5.159055</td>\n",
       "      <td>0.008457</td>\n",
       "    </tr>\n",
       "    <tr>\n",
       "      <th>3</th>\n",
       "      <td>2</td>\n",
       "      <td>Apartment</td>\n",
       "      <td>876</td>\n",
       "      <td>Panvel</td>\n",
       "      <td>4.110546</td>\n",
       "      <td>0.004692</td>\n",
       "    </tr>\n",
       "    <tr>\n",
       "      <th>4</th>\n",
       "      <td>2</td>\n",
       "      <td>Apartment</td>\n",
       "      <td>659</td>\n",
       "      <td>Mira Road East</td>\n",
       "      <td>4.555034</td>\n",
       "      <td>0.006912</td>\n",
       "    </tr>\n",
       "  </tbody>\n",
       "</table>\n",
       "</div>"
      ],
      "text/plain": [
       "   bhk       type  area          region     price  price per square feet\n",
       "0    3  Apartment   685    Andheri West  5.525453               0.008066\n",
       "1    2  Apartment   640    Naigaon East  3.979869               0.006219\n",
       "2    2  Apartment   610   Borivali West  5.159055               0.008457\n",
       "3    2  Apartment   876          Panvel  4.110546               0.004692\n",
       "4    2  Apartment   659  Mira Road East  4.555034               0.006912"
      ]
     },
     "execution_count": 14,
     "metadata": {},
     "output_type": "execute_result"
    }
   ],
   "source": [
    "house_price_df.head()"
   ]
  },
  {
   "cell_type": "code",
   "execution_count": 15,
   "id": "2da749c3",
   "metadata": {},
   "outputs": [],
   "source": [
    "num_feats = house_price_df[['bhk', 'area', 'price', 'price per square feet']]\n",
    "cat_feats = house_price_df.select_dtypes(include = ['object'])"
   ]
  },
  {
   "cell_type": "markdown",
   "id": "bc735cf5",
   "metadata": {},
   "source": [
    "PLOTTING BOX PLOT TO CHECK FOR OUTLIERS."
   ]
  },
  {
   "cell_type": "code",
   "execution_count": 16,
   "id": "64677812",
   "metadata": {
    "scrolled": false
   },
   "outputs": [
    {
     "data": {
      "image/png": "[encoded data removed]",
      "text/plain": [
       "<Figure size 1000x600 with 1 Axes>"
      ]
     },
     "metadata": {},
     "output_type": "display_data"
    },
    {
     "data": {
      "image/png": "[encoded data removed]",
      "text/plain": [
       "<Figure size 1000x600 with 1 Axes>"
      ]
     },
     "metadata": {},
     "output_type": "display_data"
    },
    {
     "data": {
      "image/png": "[encoded data removed]",
      "text/plain": [
       "<Figure size 1000x600 with 1 Axes>"
      ]
     },
     "metadata": {},
     "output_type": "display_data"
    },
    {
     "data": {
      "image/png": "[encoded data removed]",
      "text/plain": [
       "<Figure size 1000x600 with 1 Axes>"
      ]
     },
     "metadata": {},
     "output_type": "display_data"
    }
   ],
   "source": [
    "for i, column in enumerate(num_feats.columns):\n",
    "    plt.figure(figsize = (10,6))\n",
    "    plt.boxplot(house_price_df[column], vert = False)\n",
    "    plt.title(f'Box plot of {column}')\n",
    "    plt.xlabel('Value')\n",
    "    plt.show()"
   ]
  },
  {
   "cell_type": "code",
   "execution_count": 17,
   "id": "b6147d23",
   "metadata": {},
   "outputs": [
    {
     "data": {
      "text/html": [
       "<div>\n",
       "<style scoped>\n",
       "    .dataframe tbody tr th:only-of-type {\n",
       "        vertical-align: middle;\n",
       "    }\n",
       "\n",
       "    .dataframe tbody tr th {\n",
       "        vertical-align: top;\n",
       "    }\n",
       "\n",
       "    .dataframe thead th {\n",
       "        text-align: right;\n",
       "    }\n",
       "</style>\n",
       "<table border=\"1\" class=\"dataframe\">\n",
       "  <thead>\n",
       "    <tr style=\"text-align: right;\">\n",
       "      <th></th>\n",
       "      <th>bhk</th>\n",
       "      <th>area</th>\n",
       "      <th>price</th>\n",
       "      <th>price per square feet</th>\n",
       "    </tr>\n",
       "  </thead>\n",
       "  <tbody>\n",
       "    <tr>\n",
       "      <th>bhk</th>\n",
       "      <td>1.000000</td>\n",
       "      <td>0.787738</td>\n",
       "      <td>0.764761</td>\n",
       "      <td>-0.637812</td>\n",
       "    </tr>\n",
       "    <tr>\n",
       "      <th>area</th>\n",
       "      <td>0.787738</td>\n",
       "      <td>1.000000</td>\n",
       "      <td>0.683816</td>\n",
       "      <td>-0.697934</td>\n",
       "    </tr>\n",
       "    <tr>\n",
       "      <th>price</th>\n",
       "      <td>0.764761</td>\n",
       "      <td>0.683816</td>\n",
       "      <td>1.000000</td>\n",
       "      <td>-0.401685</td>\n",
       "    </tr>\n",
       "    <tr>\n",
       "      <th>price per square feet</th>\n",
       "      <td>-0.637812</td>\n",
       "      <td>-0.697934</td>\n",
       "      <td>-0.401685</td>\n",
       "      <td>1.000000</td>\n",
       "    </tr>\n",
       "  </tbody>\n",
       "</table>\n",
       "</div>"
      ],
      "text/plain": [
       "                            bhk      area     price  price per square feet\n",
       "bhk                    1.000000  0.787738  0.764761              -0.637812\n",
       "area                   0.787738  1.000000  0.683816              -0.697934\n",
       "price                  0.764761  0.683816  1.000000              -0.401685\n",
       "price per square feet -0.637812 -0.697934 -0.401685               1.000000"
      ]
     },
     "execution_count": 17,
     "metadata": {},
     "output_type": "execute_result"
    }
   ],
   "source": [
    "house_price_df_1 = house_price_df.drop(columns=['type', 'region'])\n",
    "correlation = house_price_df_1.corr()\n",
    "correlation"
   ]
  },
  {
   "cell_type": "markdown",
   "id": "6f393545",
   "metadata": {},
   "source": [
    "HEATMAP TO DEMONSTRATE CORRELATION BETWEEN DIFFERENT FEATURES."
   ]
  },
  {
   "cell_type": "code",
   "execution_count": 18,
   "id": "5237c3d4",
   "metadata": {},
   "outputs": [
    {
     "data": {
      "image/png": "[encoded data removed]",
      "text/plain": [
       "<Figure size 1200x1200 with 2 Axes>"
      ]
     },
     "metadata": {},
     "output_type": "display_data"
    }
   ],
   "source": [
    "plt.figure(figsize=(12, 12))\n",
    "sns.heatmap(correlation, cbar=True, square=True, fmt='.1f', annot=False, cmap='Blues')\n",
    "plt.title(\"Correlation Matrix of Encoded House Price Data\")\n",
    "plt.show()"
   ]
  },
  {
   "cell_type": "code",
   "execution_count": 19,
   "id": "b71f5c40",
   "metadata": {},
   "outputs": [
    {
     "data": {
      "text/html": [
       "<div>\n",
       "<style scoped>\n",
       "    .dataframe tbody tr th:only-of-type {\n",
       "        vertical-align: middle;\n",
       "    }\n",
       "\n",
       "    .dataframe tbody tr th {\n",
       "        vertical-align: top;\n",
       "    }\n",
       "\n",
       "    .dataframe thead th {\n",
       "        text-align: right;\n",
       "    }\n",
       "</style>\n",
       "<table border=\"1\" class=\"dataframe\">\n",
       "  <thead>\n",
       "    <tr style=\"text-align: right;\">\n",
       "      <th></th>\n",
       "      <th>bhk</th>\n",
       "      <th>area</th>\n",
       "      <th>price</th>\n",
       "      <th>price per square feet</th>\n",
       "      <th>type</th>\n",
       "      <th>region</th>\n",
       "    </tr>\n",
       "  </thead>\n",
       "  <tbody>\n",
       "    <tr>\n",
       "      <th>0</th>\n",
       "      <td>3</td>\n",
       "      <td>685</td>\n",
       "      <td>5.525453</td>\n",
       "      <td>0.008066</td>\n",
       "      <td>Apartment</td>\n",
       "      <td>Andheri West</td>\n",
       "    </tr>\n",
       "    <tr>\n",
       "      <th>1</th>\n",
       "      <td>2</td>\n",
       "      <td>640</td>\n",
       "      <td>3.979869</td>\n",
       "      <td>0.006219</td>\n",
       "      <td>Apartment</td>\n",
       "      <td>Naigaon East</td>\n",
       "    </tr>\n",
       "    <tr>\n",
       "      <th>2</th>\n",
       "      <td>2</td>\n",
       "      <td>610</td>\n",
       "      <td>5.159055</td>\n",
       "      <td>0.008457</td>\n",
       "      <td>Apartment</td>\n",
       "      <td>Borivali West</td>\n",
       "    </tr>\n",
       "    <tr>\n",
       "      <th>3</th>\n",
       "      <td>2</td>\n",
       "      <td>876</td>\n",
       "      <td>4.110546</td>\n",
       "      <td>0.004692</td>\n",
       "      <td>Apartment</td>\n",
       "      <td>Panvel</td>\n",
       "    </tr>\n",
       "    <tr>\n",
       "      <th>4</th>\n",
       "      <td>2</td>\n",
       "      <td>659</td>\n",
       "      <td>4.555034</td>\n",
       "      <td>0.006912</td>\n",
       "      <td>Apartment</td>\n",
       "      <td>Mira Road East</td>\n",
       "    </tr>\n",
       "  </tbody>\n",
       "</table>\n",
       "</div>"
      ],
      "text/plain": [
       "   bhk  area     price  price per square feet       type          region\n",
       "0    3   685  5.525453               0.008066  Apartment    Andheri West\n",
       "1    2   640  3.979869               0.006219  Apartment    Naigaon East\n",
       "2    2   610  5.159055               0.008457  Apartment   Borivali West\n",
       "3    2   876  4.110546               0.004692  Apartment          Panvel\n",
       "4    2   659  4.555034               0.006912  Apartment  Mira Road East"
      ]
     },
     "execution_count": 19,
     "metadata": {},
     "output_type": "execute_result"
    }
   ],
   "source": [
    "house_price_df = pd.concat([house_price_df_1, cat_feats], axis = 1)\n",
    "house_price_df.head()"
   ]
  },
  {
   "cell_type": "code",
   "execution_count": 20,
   "id": "d3817bc0",
   "metadata": {},
   "outputs": [
    {
     "data": {
      "text/plain": [
       "region\n",
       "Thane West         14868\n",
       "Mira Road East      9902\n",
       "Dombivali           3041\n",
       "Kandivali East      2568\n",
       "Kharghar            2362\n",
       "                   ...  \n",
       "Police Colony          1\n",
       "GTB Nagar              1\n",
       "Bandra                 1\n",
       "Sector 14 Vashi        1\n",
       "Goregaon               1\n",
       "Name: count, Length: 228, dtype: int64"
      ]
     },
     "execution_count": 20,
     "metadata": {},
     "output_type": "execute_result"
    }
   ],
   "source": [
    "house_price_df.region = house_price_df.region.apply(lambda x: x.strip())\n",
    "loc_stats = house_price_df['region'].value_counts(ascending=False)\n",
    "loc_stats"
   ]
  },
  {
   "cell_type": "code",
   "execution_count": 21,
   "id": "79623ca9",
   "metadata": {},
   "outputs": [
    {
     "data": {
      "text/plain": [
       "76038"
      ]
     },
     "execution_count": 21,
     "metadata": {},
     "output_type": "execute_result"
    }
   ],
   "source": [
    "loc_stats.values.sum()"
   ]
  },
  {
   "cell_type": "code",
   "execution_count": 22,
   "id": "1fc96b81",
   "metadata": {},
   "outputs": [
    {
     "data": {
      "text/plain": [
       "114"
      ]
     },
     "execution_count": 22,
     "metadata": {},
     "output_type": "execute_result"
    }
   ],
   "source": [
    "len(loc_stats[loc_stats>10])"
   ]
  },
  {
   "cell_type": "code",
   "execution_count": 23,
   "id": "d45c6e82",
   "metadata": {},
   "outputs": [
    {
     "data": {
      "text/plain": [
       "114"
      ]
     },
     "execution_count": 23,
     "metadata": {},
     "output_type": "execute_result"
    }
   ],
   "source": [
    "len(loc_stats[loc_stats<=10])"
   ]
  },
  {
   "cell_type": "code",
   "execution_count": 24,
   "id": "f616fd76",
   "metadata": {
    "scrolled": true
   },
   "outputs": [
    {
     "data": {
      "text/plain": [
       "region\n",
       "Kanjurmarg East      10\n",
       "Vasind               10\n",
       "Sector 20 Kamothe    10\n",
       "Koproli              10\n",
       "Cuffe Parade          9\n",
       "                     ..\n",
       "Police Colony         1\n",
       "GTB Nagar             1\n",
       "Bandra                1\n",
       "Sector 14 Vashi       1\n",
       "Goregaon              1\n",
       "Name: count, Length: 114, dtype: int64"
      ]
     },
     "execution_count": 24,
     "metadata": {},
     "output_type": "execute_result"
    }
   ],
   "source": [
    "location_stats_less_than_10 = loc_stats[loc_stats<=10]\n",
    "location_stats_less_than_10"
   ]
  },
  {
   "cell_type": "code",
   "execution_count": 25,
   "id": "91ce450e",
   "metadata": {},
   "outputs": [
    {
     "data": {
      "text/plain": [
       "228"
      ]
     },
     "execution_count": 25,
     "metadata": {},
     "output_type": "execute_result"
    }
   ],
   "source": [
    "len(house_price_df.region.unique())"
   ]
  },
  {
   "cell_type": "markdown",
   "id": "8c945b9d",
   "metadata": {},
   "source": [
    "ASSIGNING ALL REGIONS WITH LESS THAN 10 PROPERTIES AS 'other' TO REDUCE THE SIZE OF THE DATAFRAME AND MAKE IT STATISTICALLY REFINED."
   ]
  },
  {
   "cell_type": "code",
   "execution_count": 26,
   "id": "c24db4fb",
   "metadata": {},
   "outputs": [
    {
     "data": {
      "text/plain": [
       "115"
      ]
     },
     "execution_count": 26,
     "metadata": {},
     "output_type": "execute_result"
    }
   ],
   "source": [
    "house_price_df.region = house_price_df.region.apply(lambda x: 'other' if x in location_stats_less_than_10 else x)\n",
    "len(house_price_df.region.unique())"
   ]
  },
  {
   "cell_type": "code",
   "execution_count": 27,
   "id": "2102e63f",
   "metadata": {
    "scrolled": false
   },
   "outputs": [
    {
     "data": {
      "text/plain": [
       "region\n",
       "Thane West           14868\n",
       "Mira Road East        9902\n",
       "Dombivali             3041\n",
       "Kandivali East        2568\n",
       "Kharghar              2362\n",
       "                     ...  \n",
       "Sector 21 Kamothe       16\n",
       "Kalwa                   15\n",
       "Nalasopara East         15\n",
       "Vangani                 13\n",
       "Saphale                 12\n",
       "Name: count, Length: 115, dtype: int64"
      ]
     },
     "execution_count": 27,
     "metadata": {},
     "output_type": "execute_result"
    }
   ],
   "source": [
    "house_price_df.region.value_counts()"
   ]
  },
  {
   "cell_type": "code",
   "execution_count": 28,
   "id": "1c1a8c7d",
   "metadata": {},
   "outputs": [
    {
     "data": {
      "text/html": [
       "<div>\n",
       "<style scoped>\n",
       "    .dataframe tbody tr th:only-of-type {\n",
       "        vertical-align: middle;\n",
       "    }\n",
       "\n",
       "    .dataframe tbody tr th {\n",
       "        vertical-align: top;\n",
       "    }\n",
       "\n",
       "    .dataframe thead th {\n",
       "        text-align: right;\n",
       "    }\n",
       "</style>\n",
       "<table border=\"1\" class=\"dataframe\">\n",
       "  <thead>\n",
       "    <tr style=\"text-align: right;\">\n",
       "      <th></th>\n",
       "      <th>bhk</th>\n",
       "      <th>area</th>\n",
       "      <th>price per square feet</th>\n",
       "      <th>type</th>\n",
       "      <th>region</th>\n",
       "      <th>price</th>\n",
       "    </tr>\n",
       "  </thead>\n",
       "  <tbody>\n",
       "    <tr>\n",
       "      <th>0</th>\n",
       "      <td>3</td>\n",
       "      <td>685</td>\n",
       "      <td>0.008066</td>\n",
       "      <td>Apartment</td>\n",
       "      <td>Andheri West</td>\n",
       "      <td>5.525453</td>\n",
       "    </tr>\n",
       "    <tr>\n",
       "      <th>1</th>\n",
       "      <td>2</td>\n",
       "      <td>640</td>\n",
       "      <td>0.006219</td>\n",
       "      <td>Apartment</td>\n",
       "      <td>Naigaon East</td>\n",
       "      <td>3.979869</td>\n",
       "    </tr>\n",
       "    <tr>\n",
       "      <th>2</th>\n",
       "      <td>2</td>\n",
       "      <td>610</td>\n",
       "      <td>0.008457</td>\n",
       "      <td>Apartment</td>\n",
       "      <td>Borivali West</td>\n",
       "      <td>5.159055</td>\n",
       "    </tr>\n",
       "    <tr>\n",
       "      <th>3</th>\n",
       "      <td>2</td>\n",
       "      <td>876</td>\n",
       "      <td>0.004692</td>\n",
       "      <td>Apartment</td>\n",
       "      <td>Panvel</td>\n",
       "      <td>4.110546</td>\n",
       "    </tr>\n",
       "    <tr>\n",
       "      <th>4</th>\n",
       "      <td>2</td>\n",
       "      <td>659</td>\n",
       "      <td>0.006912</td>\n",
       "      <td>Apartment</td>\n",
       "      <td>Mira Road East</td>\n",
       "      <td>4.555034</td>\n",
       "    </tr>\n",
       "  </tbody>\n",
       "</table>\n",
       "</div>"
      ],
      "text/plain": [
       "   bhk  area  price per square feet       type          region     price\n",
       "0    3   685               0.008066  Apartment    Andheri West  5.525453\n",
       "1    2   640               0.006219  Apartment    Naigaon East  3.979869\n",
       "2    2   610               0.008457  Apartment   Borivali West  5.159055\n",
       "3    2   876               0.004692  Apartment          Panvel  4.110546\n",
       "4    2   659               0.006912  Apartment  Mira Road East  4.555034"
      ]
     },
     "execution_count": 28,
     "metadata": {},
     "output_type": "execute_result"
    }
   ],
   "source": [
    "target_col = 'price'\n",
    "house_price_df = house_price_df[[col for col in house_price_df.columns if col != target_col] + [target_col]]\n",
    "house_price_df.head()"
   ]
  },
  {
   "cell_type": "markdown",
   "id": "7c931410",
   "metadata": {},
   "source": [
    "ONE-HOT ENCODING 'type' AND 'region' TO MAKE IT EASIER TO INCLUDE THOSE FEATURES IN MODEL TRAINING. "
   ]
  },
  {
   "cell_type": "code",
   "execution_count": 30,
   "id": "42029798",
   "metadata": {},
   "outputs": [
    {
     "data": {
      "text/html": [
       "<div>\n",
       "<style scoped>\n",
       "    .dataframe tbody tr th:only-of-type {\n",
       "        vertical-align: middle;\n",
       "    }\n",
       "\n",
       "    .dataframe tbody tr th {\n",
       "        vertical-align: top;\n",
       "    }\n",
       "\n",
       "    .dataframe thead th {\n",
       "        text-align: right;\n",
       "    }\n",
       "</style>\n",
       "<table border=\"1\" class=\"dataframe\">\n",
       "  <thead>\n",
       "    <tr style=\"text-align: right;\">\n",
       "      <th></th>\n",
       "      <th>bhk</th>\n",
       "      <th>area</th>\n",
       "      <th>price per square feet</th>\n",
       "      <th>price</th>\n",
       "      <th>type_Apartment</th>\n",
       "      <th>type_Independent House</th>\n",
       "      <th>type_Penthouse</th>\n",
       "      <th>type_Studio Apartment</th>\n",
       "      <th>type_Villa</th>\n",
       "      <th>region_Agripada</th>\n",
       "      <th>...</th>\n",
       "      <th>region_Vasai</th>\n",
       "      <th>region_Vashi</th>\n",
       "      <th>region_Vikhroli</th>\n",
       "      <th>region_Ville Parle East</th>\n",
       "      <th>region_Ville Parle West</th>\n",
       "      <th>region_Virar</th>\n",
       "      <th>region_Virar West</th>\n",
       "      <th>region_Wadala</th>\n",
       "      <th>region_Worli</th>\n",
       "      <th>region_other</th>\n",
       "    </tr>\n",
       "  </thead>\n",
       "  <tbody>\n",
       "    <tr>\n",
       "      <th>0</th>\n",
       "      <td>3</td>\n",
       "      <td>685</td>\n",
       "      <td>0.008066</td>\n",
       "      <td>5.525453</td>\n",
       "      <td>True</td>\n",
       "      <td>False</td>\n",
       "      <td>False</td>\n",
       "      <td>False</td>\n",
       "      <td>False</td>\n",
       "      <td>False</td>\n",
       "      <td>...</td>\n",
       "      <td>False</td>\n",
       "      <td>False</td>\n",
       "      <td>False</td>\n",
       "      <td>False</td>\n",
       "      <td>False</td>\n",
       "      <td>False</td>\n",
       "      <td>False</td>\n",
       "      <td>False</td>\n",
       "      <td>False</td>\n",
       "      <td>False</td>\n",
       "    </tr>\n",
       "    <tr>\n",
       "      <th>1</th>\n",
       "      <td>2</td>\n",
       "      <td>640</td>\n",
       "      <td>0.006219</td>\n",
       "      <td>3.979869</td>\n",
       "      <td>True</td>\n",
       "      <td>False</td>\n",
       "      <td>False</td>\n",
       "      <td>False</td>\n",
       "      <td>False</td>\n",
       "      <td>False</td>\n",
       "      <td>...</td>\n",
       "      <td>False</td>\n",
       "      <td>False</td>\n",
       "      <td>False</td>\n",
       "      <td>False</td>\n",
       "      <td>False</td>\n",
       "      <td>False</td>\n",
       "      <td>False</td>\n",
       "      <td>False</td>\n",
       "      <td>False</td>\n",
       "      <td>False</td>\n",
       "    </tr>\n",
       "    <tr>\n",
       "      <th>2</th>\n",
       "      <td>2</td>\n",
       "      <td>610</td>\n",
       "      <td>0.008457</td>\n",
       "      <td>5.159055</td>\n",
       "      <td>True</td>\n",
       "      <td>False</td>\n",
       "      <td>False</td>\n",
       "      <td>False</td>\n",
       "      <td>False</td>\n",
       "      <td>False</td>\n",
       "      <td>...</td>\n",
       "      <td>False</td>\n",
       "      <td>False</td>\n",
       "      <td>False</td>\n",
       "      <td>False</td>\n",
       "      <td>False</td>\n",
       "      <td>False</td>\n",
       "      <td>False</td>\n",
       "      <td>False</td>\n",
       "      <td>False</td>\n",
       "      <td>False</td>\n",
       "    </tr>\n",
       "    <tr>\n",
       "      <th>3</th>\n",
       "      <td>2</td>\n",
       "      <td>876</td>\n",
       "      <td>0.004692</td>\n",
       "      <td>4.110546</td>\n",
       "      <td>True</td>\n",
       "      <td>False</td>\n",
       "      <td>False</td>\n",
       "      <td>False</td>\n",
       "      <td>False</td>\n",
       "      <td>False</td>\n",
       "      <td>...</td>\n",
       "      <td>False</td>\n",
       "      <td>False</td>\n",
       "      <td>False</td>\n",
       "      <td>False</td>\n",
       "      <td>False</td>\n",
       "      <td>False</td>\n",
       "      <td>False</td>\n",
       "      <td>False</td>\n",
       "      <td>False</td>\n",
       "      <td>False</td>\n",
       "    </tr>\n",
       "    <tr>\n",
       "      <th>4</th>\n",
       "      <td>2</td>\n",
       "      <td>659</td>\n",
       "      <td>0.006912</td>\n",
       "      <td>4.555034</td>\n",
       "      <td>True</td>\n",
       "      <td>False</td>\n",
       "      <td>False</td>\n",
       "      <td>False</td>\n",
       "      <td>False</td>\n",
       "      <td>False</td>\n",
       "      <td>...</td>\n",
       "      <td>False</td>\n",
       "      <td>False</td>\n",
       "      <td>False</td>\n",
       "      <td>False</td>\n",
       "      <td>False</td>\n",
       "      <td>False</td>\n",
       "      <td>False</td>\n",
       "      <td>False</td>\n",
       "      <td>False</td>\n",
       "      <td>False</td>\n",
       "    </tr>\n",
       "    <tr>\n",
       "      <th>...</th>\n",
       "      <td>...</td>\n",
       "      <td>...</td>\n",
       "      <td>...</td>\n",
       "      <td>...</td>\n",
       "      <td>...</td>\n",
       "      <td>...</td>\n",
       "      <td>...</td>\n",
       "      <td>...</td>\n",
       "      <td>...</td>\n",
       "      <td>...</td>\n",
       "      <td>...</td>\n",
       "      <td>...</td>\n",
       "      <td>...</td>\n",
       "      <td>...</td>\n",
       "      <td>...</td>\n",
       "      <td>...</td>\n",
       "      <td>...</td>\n",
       "      <td>...</td>\n",
       "      <td>...</td>\n",
       "      <td>...</td>\n",
       "      <td>...</td>\n",
       "    </tr>\n",
       "    <tr>\n",
       "      <th>76033</th>\n",
       "      <td>3</td>\n",
       "      <td>1527</td>\n",
       "      <td>0.004291</td>\n",
       "      <td>6.552508</td>\n",
       "      <td>True</td>\n",
       "      <td>False</td>\n",
       "      <td>False</td>\n",
       "      <td>False</td>\n",
       "      <td>False</td>\n",
       "      <td>False</td>\n",
       "      <td>...</td>\n",
       "      <td>False</td>\n",
       "      <td>False</td>\n",
       "      <td>False</td>\n",
       "      <td>False</td>\n",
       "      <td>False</td>\n",
       "      <td>False</td>\n",
       "      <td>False</td>\n",
       "      <td>False</td>\n",
       "      <td>False</td>\n",
       "      <td>False</td>\n",
       "    </tr>\n",
       "    <tr>\n",
       "      <th>76034</th>\n",
       "      <td>5</td>\n",
       "      <td>3049</td>\n",
       "      <td>0.002326</td>\n",
       "      <td>7.090910</td>\n",
       "      <td>True</td>\n",
       "      <td>False</td>\n",
       "      <td>False</td>\n",
       "      <td>False</td>\n",
       "      <td>False</td>\n",
       "      <td>False</td>\n",
       "      <td>...</td>\n",
       "      <td>False</td>\n",
       "      <td>False</td>\n",
       "      <td>False</td>\n",
       "      <td>False</td>\n",
       "      <td>False</td>\n",
       "      <td>False</td>\n",
       "      <td>False</td>\n",
       "      <td>False</td>\n",
       "      <td>False</td>\n",
       "      <td>False</td>\n",
       "    </tr>\n",
       "    <tr>\n",
       "      <th>76035</th>\n",
       "      <td>4</td>\n",
       "      <td>3313</td>\n",
       "      <td>0.002085</td>\n",
       "      <td>6.908755</td>\n",
       "      <td>True</td>\n",
       "      <td>False</td>\n",
       "      <td>False</td>\n",
       "      <td>False</td>\n",
       "      <td>False</td>\n",
       "      <td>False</td>\n",
       "      <td>...</td>\n",
       "      <td>False</td>\n",
       "      <td>False</td>\n",
       "      <td>False</td>\n",
       "      <td>False</td>\n",
       "      <td>False</td>\n",
       "      <td>False</td>\n",
       "      <td>False</td>\n",
       "      <td>False</td>\n",
       "      <td>False</td>\n",
       "      <td>False</td>\n",
       "    </tr>\n",
       "    <tr>\n",
       "      <th>76036</th>\n",
       "      <td>2</td>\n",
       "      <td>1305</td>\n",
       "      <td>0.004639</td>\n",
       "      <td>6.054439</td>\n",
       "      <td>True</td>\n",
       "      <td>False</td>\n",
       "      <td>False</td>\n",
       "      <td>False</td>\n",
       "      <td>False</td>\n",
       "      <td>False</td>\n",
       "      <td>...</td>\n",
       "      <td>False</td>\n",
       "      <td>False</td>\n",
       "      <td>False</td>\n",
       "      <td>False</td>\n",
       "      <td>False</td>\n",
       "      <td>False</td>\n",
       "      <td>False</td>\n",
       "      <td>False</td>\n",
       "      <td>False</td>\n",
       "      <td>False</td>\n",
       "    </tr>\n",
       "    <tr>\n",
       "      <th>76037</th>\n",
       "      <td>5</td>\n",
       "      <td>5200</td>\n",
       "      <td>0.001505</td>\n",
       "      <td>7.824446</td>\n",
       "      <td>True</td>\n",
       "      <td>False</td>\n",
       "      <td>False</td>\n",
       "      <td>False</td>\n",
       "      <td>False</td>\n",
       "      <td>False</td>\n",
       "      <td>...</td>\n",
       "      <td>False</td>\n",
       "      <td>False</td>\n",
       "      <td>False</td>\n",
       "      <td>False</td>\n",
       "      <td>False</td>\n",
       "      <td>False</td>\n",
       "      <td>False</td>\n",
       "      <td>False</td>\n",
       "      <td>False</td>\n",
       "      <td>False</td>\n",
       "    </tr>\n",
       "  </tbody>\n",
       "</table>\n",
       "<p>76038 rows × 124 columns</p>\n",
       "</div>"
      ],
      "text/plain": [
       "       bhk  area  price per square feet     price  type_Apartment  \\\n",
       "0        3   685               0.008066  5.525453            True   \n",
       "1        2   640               0.006219  3.979869            True   \n",
       "2        2   610               0.008457  5.159055            True   \n",
       "3        2   876               0.004692  4.110546            True   \n",
       "4        2   659               0.006912  4.555034            True   \n",
       "...    ...   ...                    ...       ...             ...   \n",
       "76033    3  1527               0.004291  6.552508            True   \n",
       "76034    5  3049               0.002326  7.090910            True   \n",
       "76035    4  3313               0.002085  6.908755            True   \n",
       "76036    2  1305               0.004639  6.054439            True   \n",
       "76037    5  5200               0.001505  7.824446            True   \n",
       "\n",
       "       type_Independent House  type_Penthouse  type_Studio Apartment  \\\n",
       "0                       False           False                  False   \n",
       "1                       False           False                  False   \n",
       "2                       False           False                  False   \n",
       "3                       False           False                  False   \n",
       "4                       False           False                  False   \n",
       "...                       ...             ...                    ...   \n",
       "76033                   False           False                  False   \n",
       "76034                   False           False                  False   \n",
       "76035                   False           False                  False   \n",
       "76036                   False           False                  False   \n",
       "76037                   False           False                  False   \n",
       "\n",
       "       type_Villa  region_Agripada  ...  region_Vasai  region_Vashi  \\\n",
       "0           False            False  ...         False         False   \n",
       "1           False            False  ...         False         False   \n",
       "2           False            False  ...         False         False   \n",
       "3           False            False  ...         False         False   \n",
       "4           False            False  ...         False         False   \n",
       "...           ...              ...  ...           ...           ...   \n",
       "76033       False            False  ...         False         False   \n",
       "76034       False            False  ...         False         False   \n",
       "76035       False            False  ...         False         False   \n",
       "76036       False            False  ...         False         False   \n",
       "76037       False            False  ...         False         False   \n",
       "\n",
       "       region_Vikhroli  region_Ville Parle East  region_Ville Parle West  \\\n",
       "0                False                    False                    False   \n",
       "1                False                    False                    False   \n",
       "2                False                    False                    False   \n",
       "3                False                    False                    False   \n",
       "4                False                    False                    False   \n",
       "...                ...                      ...                      ...   \n",
       "76033            False                    False                    False   \n",
       "76034            False                    False                    False   \n",
       "76035            False                    False                    False   \n",
       "76036            False                    False                    False   \n",
       "76037            False                    False                    False   \n",
       "\n",
       "       region_Virar  region_Virar West  region_Wadala  region_Worli  \\\n",
       "0             False              False          False         False   \n",
       "1             False              False          False         False   \n",
       "2             False              False          False         False   \n",
       "3             False              False          False         False   \n",
       "4             False              False          False         False   \n",
       "...             ...                ...            ...           ...   \n",
       "76033         False              False          False         False   \n",
       "76034         False              False          False         False   \n",
       "76035         False              False          False         False   \n",
       "76036         False              False          False         False   \n",
       "76037         False              False          False         False   \n",
       "\n",
       "       region_other  \n",
       "0             False  \n",
       "1             False  \n",
       "2             False  \n",
       "3             False  \n",
       "4             False  \n",
       "...             ...  \n",
       "76033         False  \n",
       "76034         False  \n",
       "76035         False  \n",
       "76036         False  \n",
       "76037         False  \n",
       "\n",
       "[76038 rows x 124 columns]"
      ]
     },
     "execution_count": 30,
     "metadata": {},
     "output_type": "execute_result"
    }
   ],
   "source": [
    "house_price_df_encoded = pd.get_dummies(house_price_df, columns=['type', 'region'], prefix=['type', 'region'])\n",
    "\n",
    "house_price_df_encoded"
   ]
  },
  {
   "cell_type": "code",
   "execution_count": 31,
   "id": "a9d337c6",
   "metadata": {},
   "outputs": [
    {
     "data": {
      "text/plain": [
       "(76038, 124)"
      ]
     },
     "execution_count": 31,
     "metadata": {},
     "output_type": "execute_result"
    }
   ],
   "source": [
    "house_price_df_encoded.shape"
   ]
  },
  {
   "cell_type": "markdown",
   "id": "1255e8de",
   "metadata": {},
   "source": [
    "ASSIGNING INDEPENDENT FEATURES AND TARGET."
   ]
  },
  {
   "cell_type": "code",
   "execution_count": 32,
   "id": "0aa2dd12",
   "metadata": {},
   "outputs": [],
   "source": [
    "X = house_price_df_encoded.drop('price', axis = 1)\n",
    "Y = house_price_df_encoded['price']"
   ]
  },
  {
   "cell_type": "markdown",
   "id": "2d748ff2",
   "metadata": {},
   "source": [
    "SPLITTING DATA IN TRAINING SET AND TEST SET."
   ]
  },
  {
   "cell_type": "code",
   "execution_count": 35,
   "id": "1b7aa9c3",
   "metadata": {},
   "outputs": [],
   "source": [
    "X_train, X_test, Y_train, Y_test = train_test_split(X, Y, test_size = 0.2, random_state = 2)"
   ]
  },
  {
   "cell_type": "code",
   "execution_count": 36,
   "id": "8871aea0",
   "metadata": {},
   "outputs": [
    {
     "name": "stdout",
     "output_type": "stream",
     "text": [
      "(76038, 123) (60830, 123) (15208, 123)\n"
     ]
    }
   ],
   "source": [
    "print(X.shape, X_train.shape, X_test.shape)"
   ]
  },
  {
   "cell_type": "markdown",
   "id": "733f724e",
   "metadata": {},
   "source": [
    "DEFINING MODEL TO BE USED IN TRAINING."
   ]
  },
  {
   "cell_type": "code",
   "execution_count": 37,
   "id": "b2564b10",
   "metadata": {},
   "outputs": [],
   "source": [
    "model = XGBRegressor()"
   ]
  },
  {
   "cell_type": "markdown",
   "id": "0ca0a204",
   "metadata": {},
   "source": [
    "TRAINING THE MODEL."
   ]
  },
  {
   "cell_type": "code",
   "execution_count": 38,
   "id": "f250e086",
   "metadata": {},
   "outputs": [
    {
     "data": {
      "text/html": [
       "<style>#sk-container-id-1 {color: black;background-color: white;}#sk-container-id-1 pre{padding: 0;}#sk-container-id-1 div.sk-toggleable {background-color: white;}#sk-container-id-1 label.sk-toggleable__label {cursor: pointer;display: block;width: 100%;margin-bottom: 0;padding: 0.3em;box-sizing: border-box;text-align: center;}#sk-container-id-1 label.sk-toggleable__label-arrow:before {content: \"▸\";float: left;margin-right: 0.25em;color: #696969;}#sk-container-id-1 label.sk-toggleable__label-arrow:hover:before {color: black;}#sk-container-id-1 div.sk-estimator:hover label.sk-toggleable__label-arrow:before {color: black;}#sk-container-id-1 div.sk-toggleable__content {max-height: 0;max-width: 0;overflow: hidden;text-align: left;background-color: #f0f8ff;}#sk-container-id-1 div.sk-toggleable__content pre {margin: 0.2em;color: black;border-radius: 0.25em;background-color: #f0f8ff;}#sk-container-id-1 input.sk-toggleable__control:checked~div.sk-toggleable__content {max-height: 200px;max-width: 100%;overflow: auto;}#sk-container-id-1 input.sk-toggleable__control:checked~label.sk-toggleable__label-arrow:before {content: \"▾\";}#sk-container-id-1 div.sk-estimator input.sk-toggleable__control:checked~label.sk-toggleable__label {background-color: #d4ebff;}#sk-container-id-1 div.sk-label input.sk-toggleable__control:checked~label.sk-toggleable__label {background-color: #d4ebff;}#sk-container-id-1 input.sk-hidden--visually {border: 0;clip: rect(1px 1px 1px 1px);clip: rect(1px, 1px, 1px, 1px);height: 1px;margin: -1px;overflow: hidden;padding: 0;position: absolute;width: 1px;}#sk-container-id-1 div.sk-estimator {font-family: monospace;background-color: #f0f8ff;border: 1px dotted black;border-radius: 0.25em;box-sizing: border-box;margin-bottom: 0.5em;}#sk-container-id-1 div.sk-estimator:hover {background-color: #d4ebff;}#sk-container-id-1 div.sk-parallel-item::after {content: \"\";width: 100%;border-bottom: 1px solid gray;flex-grow: 1;}#sk-container-id-1 div.sk-label:hover label.sk-toggleable__label {background-color: #d4ebff;}#sk-container-id-1 div.sk-serial::before {content: \"\";position: absolute;border-left: 1px solid gray;box-sizing: border-box;top: 0;bottom: 0;left: 50%;z-index: 0;}#sk-container-id-1 div.sk-serial {display: flex;flex-direction: column;align-items: center;background-color: white;padding-right: 0.2em;padding-left: 0.2em;position: relative;}#sk-container-id-1 div.sk-item {position: relative;z-index: 1;}#sk-container-id-1 div.sk-parallel {display: flex;align-items: stretch;justify-content: center;background-color: white;position: relative;}#sk-container-id-1 div.sk-item::before, #sk-container-id-1 div.sk-parallel-item::before {content: \"\";position: absolute;border-left: 1px solid gray;box-sizing: border-box;top: 0;bottom: 0;left: 50%;z-index: -1;}#sk-container-id-1 div.sk-parallel-item {display: flex;flex-direction: column;z-index: 1;position: relative;background-color: white;}#sk-container-id-1 div.sk-parallel-item:first-child::after {align-self: flex-end;width: 50%;}#sk-container-id-1 div.sk-parallel-item:last-child::after {align-self: flex-start;width: 50%;}#sk-container-id-1 div.sk-parallel-item:only-child::after {width: 0;}#sk-container-id-1 div.sk-dashed-wrapped {border: 1px dashed gray;margin: 0 0.4em 0.5em 0.4em;box-sizing: border-box;padding-bottom: 0.4em;background-color: white;}#sk-container-id-1 div.sk-label label {font-family: monospace;font-weight: bold;display: inline-block;line-height: 1.2em;}#sk-container-id-1 div.sk-label-container {text-align: center;}#sk-container-id-1 div.sk-container {/* jupyter's `normalize.less` sets `[hidden] { display: none; }` but bootstrap.min.css set `[hidden] { display: none !important; }` so we also need the `!important` here to be able to override the default hidden behavior on the sphinx rendered scikit-learn.org. See: https://github.com/scikit-learn/scikit-learn/issues/21755 */display: inline-block !important;position: relative;}#sk-container-id-1 div.sk-text-repr-fallback {display: none;}</style><div id=\"sk-container-id-1\" class=\"sk-top-container\"><div class=\"sk-text-repr-fallback\"><pre>XGBRegressor(base_score=None, booster=None, callbacks=None,\n",
       "             colsample_bylevel=None, colsample_bynode=None,\n",
       "             colsample_bytree=None, device=None, early_stopping_rounds=None,\n",
       "             enable_categorical=False, eval_metric=None, feature_types=None,\n",
       "             gamma=None, grow_policy=None, importance_type=None,\n",
       "             interaction_constraints=None, learning_rate=None, max_bin=None,\n",
       "             max_cat_threshold=None, max_cat_to_onehot=None,\n",
       "             max_delta_step=None, max_depth=None, max_leaves=None,\n",
       "             min_child_weight=None, missing=nan, monotone_constraints=None,\n",
       "             multi_strategy=None, n_estimators=None, n_jobs=None,\n",
       "             num_parallel_tree=None, random_state=None, ...)</pre><b>In a Jupyter environment, please rerun this cell to show the HTML representation or trust the notebook. <br />On GitHub, the HTML representation is unable to render, please try loading this page with nbviewer.org.</b></div><div class=\"sk-container\" hidden><div class=\"sk-item\"><div class=\"sk-estimator sk-toggleable\"><input class=\"sk-toggleable__control sk-hidden--visually\" id=\"sk-estimator-id-1\" type=\"checkbox\" checked><label for=\"sk-estimator-id-1\" class=\"sk-toggleable__label sk-toggleable__label-arrow\">XGBRegressor</label><div class=\"sk-toggleable__content\"><pre>XGBRegressor(base_score=None, booster=None, callbacks=None,\n",
       "             colsample_bylevel=None, colsample_bynode=None,\n",
       "             colsample_bytree=None, device=None, early_stopping_rounds=None,\n",
       "             enable_categorical=False, eval_metric=None, feature_types=None,\n",
       "             gamma=None, grow_policy=None, importance_type=None,\n",
       "             interaction_constraints=None, learning_rate=None, max_bin=None,\n",
       "             max_cat_threshold=None, max_cat_to_onehot=None,\n",
       "             max_delta_step=None, max_depth=None, max_leaves=None,\n",
       "             min_child_weight=None, missing=nan, monotone_constraints=None,\n",
       "             multi_strategy=None, n_estimators=None, n_jobs=None,\n",
       "             num_parallel_tree=None, random_state=None, ...)</pre></div></div></div></div></div>"
      ],
      "text/plain": [
       "XGBRegressor(base_score=None, booster=None, callbacks=None,\n",
       "             colsample_bylevel=None, colsample_bynode=None,\n",
       "             colsample_bytree=None, device=None, early_stopping_rounds=None,\n",
       "             enable_categorical=False, eval_metric=None, feature_types=None,\n",
       "             gamma=None, grow_policy=None, importance_type=None,\n",
       "             interaction_constraints=None, learning_rate=None, max_bin=None,\n",
       "             max_cat_threshold=None, max_cat_to_onehot=None,\n",
       "             max_delta_step=None, max_depth=None, max_leaves=None,\n",
       "             min_child_weight=None, missing=nan, monotone_constraints=None,\n",
       "             multi_strategy=None, n_estimators=None, n_jobs=None,\n",
       "             num_parallel_tree=None, random_state=None, ...)"
      ]
     },
     "execution_count": 38,
     "metadata": {},
     "output_type": "execute_result"
    }
   ],
   "source": [
    "model.fit(X_train, Y_train)"
   ]
  },
  {
   "cell_type": "markdown",
   "id": "aaa1d723",
   "metadata": {},
   "source": [
    "COMPARING Y_train WITH training_data_prediction AND Y_test WITH test_data_prediction."
   ]
  },
  {
   "cell_type": "code",
   "execution_count": 39,
   "id": "1f6a39f8",
   "metadata": {},
   "outputs": [],
   "source": [
    "training_data_prediction = model.predict(X_train)"
   ]
  },
  {
   "cell_type": "code",
   "execution_count": 40,
   "id": "657170ea",
   "metadata": {},
   "outputs": [
    {
     "name": "stdout",
     "output_type": "stream",
     "text": [
      "[4.060514  6.358305  5.9835453 ... 4.9197855 4.8104444 3.46066  ]\n"
     ]
    }
   ],
   "source": [
    "print(training_data_prediction)"
   ]
  },
  {
   "cell_type": "code",
   "execution_count": 41,
   "id": "6c6d1b6e",
   "metadata": {},
   "outputs": [
    {
     "name": "stdout",
     "output_type": "stream",
     "text": [
      "R squared error:  0.9951559271606959\n",
      "Mean absolute error:  0.04045270905111622\n"
     ]
    }
   ],
   "source": [
    "score_1 = metrics.r2_score(Y_train, training_data_prediction)\n",
    "score_2 = metrics.mean_absolute_error(Y_train, training_data_prediction)\n",
    "print(\"R squared error: \", score_1)\n",
    "print(\"Mean absolute error: \", score_2)"
   ]
  },
  {
   "cell_type": "code",
   "execution_count": 42,
   "id": "7aea7d92",
   "metadata": {},
   "outputs": [],
   "source": [
    "test_data_prediction = model.predict(X_test)"
   ]
  },
  {
   "cell_type": "code",
   "execution_count": 43,
   "id": "060bd7fa",
   "metadata": {},
   "outputs": [
    {
     "name": "stdout",
     "output_type": "stream",
     "text": [
      "[4.3315244 5.078027  5.420106  ... 3.8182108 4.624255  5.4344263]\n"
     ]
    }
   ],
   "source": [
    "print(test_data_prediction)"
   ]
  },
  {
   "cell_type": "code",
   "execution_count": 44,
   "id": "a7701d24",
   "metadata": {},
   "outputs": [
    {
     "name": "stdout",
     "output_type": "stream",
     "text": [
      "R squared error:  0.9933298006214982\n",
      "Mean absolute error:  0.044225808517730746\n"
     ]
    }
   ],
   "source": [
    "score_1_test = metrics.r2_score(Y_test, test_data_prediction)\n",
    "score_2_test = metrics.mean_absolute_error(Y_test, test_data_prediction)\n",
    "print(\"R squared error: \", score_1_test)\n",
    "print(\"Mean absolute error: \", score_2_test)"
   ]
  },
  {
   "cell_type": "code",
   "execution_count": 45,
   "id": "67c98839",
   "metadata": {},
   "outputs": [
    {
     "data": {
      "text/html": [
       "<div>\n",
       "<style scoped>\n",
       "    .dataframe tbody tr th:only-of-type {\n",
       "        vertical-align: middle;\n",
       "    }\n",
       "\n",
       "    .dataframe tbody tr th {\n",
       "        vertical-align: top;\n",
       "    }\n",
       "\n",
       "    .dataframe thead th {\n",
       "        text-align: right;\n",
       "    }\n",
       "</style>\n",
       "<table border=\"1\" class=\"dataframe\">\n",
       "  <thead>\n",
       "    <tr style=\"text-align: right;\">\n",
       "      <th></th>\n",
       "      <th>Actual</th>\n",
       "      <th>Predicted</th>\n",
       "    </tr>\n",
       "  </thead>\n",
       "  <tbody>\n",
       "    <tr>\n",
       "      <th>44537</th>\n",
       "      <td>4.33</td>\n",
       "      <td>4.33</td>\n",
       "    </tr>\n",
       "    <tr>\n",
       "      <th>54707</th>\n",
       "      <td>5.09</td>\n",
       "      <td>5.08</td>\n",
       "    </tr>\n",
       "    <tr>\n",
       "      <th>33616</th>\n",
       "      <td>5.47</td>\n",
       "      <td>5.42</td>\n",
       "    </tr>\n",
       "    <tr>\n",
       "      <th>10735</th>\n",
       "      <td>6.69</td>\n",
       "      <td>6.77</td>\n",
       "    </tr>\n",
       "    <tr>\n",
       "      <th>75123</th>\n",
       "      <td>4.49</td>\n",
       "      <td>4.43</td>\n",
       "    </tr>\n",
       "    <tr>\n",
       "      <th>875</th>\n",
       "      <td>3.04</td>\n",
       "      <td>3.04</td>\n",
       "    </tr>\n",
       "    <tr>\n",
       "      <th>13194</th>\n",
       "      <td>4.47</td>\n",
       "      <td>4.48</td>\n",
       "    </tr>\n",
       "    <tr>\n",
       "      <th>54679</th>\n",
       "      <td>5.69</td>\n",
       "      <td>5.67</td>\n",
       "    </tr>\n",
       "    <tr>\n",
       "      <th>338</th>\n",
       "      <td>3.04</td>\n",
       "      <td>3.04</td>\n",
       "    </tr>\n",
       "    <tr>\n",
       "      <th>70184</th>\n",
       "      <td>4.98</td>\n",
       "      <td>4.99</td>\n",
       "    </tr>\n",
       "  </tbody>\n",
       "</table>\n",
       "</div>"
      ],
      "text/plain": [
       "       Actual  Predicted\n",
       "44537    4.33       4.33\n",
       "54707    5.09       5.08\n",
       "33616    5.47       5.42\n",
       "10735    6.69       6.77\n",
       "75123    4.49       4.43\n",
       "875      3.04       3.04\n",
       "13194    4.47       4.48\n",
       "54679    5.69       5.67\n",
       "338      3.04       3.04\n",
       "70184    4.98       4.99"
      ]
     },
     "execution_count": 45,
     "metadata": {},
     "output_type": "execute_result"
    }
   ],
   "source": [
    "df = pd.DataFrame({'Actual': np.round(Y_test, 2), \n",
    "                   'Predicted': np.round(test_data_prediction, 2)})\n",
    "df.head(10)"
   ]
  },
  {
   "cell_type": "markdown",
   "id": "4336e184",
   "metadata": {},
   "source": [
    "PLOTTING GRAPHS TO SHOW VARIOUS STATISTICAL INFERENCES AFTER TRAINING THE MODEL."
   ]
  },
  {
   "cell_type": "code",
   "execution_count": 46,
   "id": "83cb4647",
   "metadata": {},
   "outputs": [
    {
     "data": {
      "image/png": "[encoded data removed]",
      "text/plain": [
       "<Figure size 640x480 with 1 Axes>"
      ]
     },
     "metadata": {},
     "output_type": "display_data"
    }
   ],
   "source": [
    "plt.scatter(Y_train, training_data_prediction)\n",
    "plt.xlabel('Actual prices')\n",
    "plt.ylabel('Predicted prices')\n",
    "plt.title(\"Actual vs Predicted Prices\")\n",
    "plt.show()"
   ]
  },
  {
   "cell_type": "code",
   "execution_count": 47,
   "id": "699baeba",
   "metadata": {},
   "outputs": [
    {
     "data": {
      "image/png": "[encoded data removed]",
      "text/plain": [
       "<Figure size 640x480 with 1 Axes>"
      ]
     },
     "metadata": {},
     "output_type": "display_data"
    }
   ],
   "source": [
    "plt.hist((test_data_prediction - Y_test), bins=50, color='purple', edgecolor='black', alpha=0.7)\n",
    "\n",
    "plt.xlabel('Prediction Error (Predicted - Actual)')\n",
    "plt.ylabel('Frequency')\n",
    "plt.title('Distribution of Prediction Errors')\n",
    "\n",
    "plt.show()"
   ]
  },
  {
   "cell_type": "code",
   "execution_count": 48,
   "id": "45dd803e",
   "metadata": {},
   "outputs": [
    {
     "name": "stdout",
     "output_type": "stream",
     "text": [
      "Model saved as 'trained_model.pkl'\n"
     ]
    }
   ],
   "source": [
    "with open('trained_model.pkl', 'wb') as file:\n",
    "    pickle.dump(model, file)\n",
    "\n",
    "print(\"Model saved as 'trained_model.pkl'\")"
   ]
  },
  {
   "cell_type": "code",
   "execution_count": null,
   "id": "21c93271",
   "metadata": {},
   "outputs": [],
   "source": []
  }
 ],
 "metadata": {
  "kernelspec": {
   "display_name": "Python 3 (ipykernel)",
   "language": "python",
   "name": "python3"
  },
  "language_info": {
   "codemirror_mode": {
    "name": "ipython",
    "version": 3
   },
   "file_extension": ".py",
   "mimetype": "text/x-python",
   "name": "python",
   "nbconvert_exporter": "python",
   "pygments_lexer": "ipython3",
   "version": "3.11.7"
  }
 },
 "nbformat": 4,
 "nbformat_minor": 5
}
